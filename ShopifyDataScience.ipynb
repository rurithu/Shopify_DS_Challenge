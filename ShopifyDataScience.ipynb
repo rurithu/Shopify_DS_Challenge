{
  "nbformat": 4,
  "nbformat_minor": 0,
  "metadata": {
    "colab": {
      "name": "ShopifyDataScience.ipynb",
      "provenance": [],
      "collapsed_sections": [],
      "toc_visible": true
    },
    "kernelspec": {
      "name": "ir",
      "display_name": "R"
    },
    "language_info": {
      "name": "R"
    }
  },
  "cells": [
    {
      "cell_type": "markdown",
      "metadata": {
        "id": "V7lNBmJZSAFh"
      },
      "source": [
        "## **Shopify Fall 2021 Data Science Intern Challenge**\n",
        "\n",
        "### **Code Overview** \n",
        "\n",
        "* Question 1 \n",
        "  + Exploratory Data Analysis \n",
        "* Question 2 \n",
        "  + SQL Queries \n",
        "\n",
        "\n"
      ]
    },
    {
      "cell_type": "markdown",
      "metadata": {
        "id": "62EWd6WESE1b"
      },
      "source": [
        "### **Question 1** \n",
        "\n",
        "I have decided to carry out this question using R because I find that for pure data analysis R's ```tidyverse``` package is far superior when it comes to exploratory analysis compared to Python's ```Pandas``` package. In my opinion, the R pipelines are much easier to use than ```Pandas```' groupby function, and they have greater functionality as well. I also love to use R for exploratory analysis due to the great visualization package that is ```ggplot2```.\n",
        "\n",
        "\n",
        "First we need to download all the packages needed to carry out this analysis. For this Analysis we will be using ```tidyverse``` and ```ggplot2``` in R. After we do this we can start to explore our dataset, and see why we first calculated such a large AOV of $3145.13 across the sneaker shops."
      ]
    },
    {
      "cell_type": "code",
      "metadata": {
        "id": "49_KUzM9Sbo-"
      },
      "source": [
        "library(\"tidyverse\")\n",
        "library(\"ggplot2\")\n",
        "\n",
        "# Read in our Dataset\n",
        "shopify_dat <- read.csv(\"/content/2019 Winter Data Science Intern Challenge Data Set - Sheet1.csv\")"
      ],
      "execution_count": null,
      "outputs": []
    },
    {
      "cell_type": "markdown",
      "metadata": {
        "id": "UmxPHkSwS8KX"
      },
      "source": [
        "So, to get the AOV of $3145.13 we simply calculated the average of order_amount without taking any other factors into account, so to correct for this mistake and get more insight into why the average is so high we first need to check the distribution, to see how the values of the transactions are spread out. To do this we can create a boxplot, so it is easier to visualize the distribution as well as check for any outliers that could be skewing the mean, due to the fact that the mean is very sensitive to outliers.\n",
        "\n",
        "Next, I also think it is a good idea to determine the mean value of orders grouped by total items. This might be a good metric to analyze, because we can determine the average price of individual items in each of these orders, and check to see if the prices of some items are implausible. Once we know the average price of each individual item, it will be easier to compare these values with the average metric that we later come up with to see if it is a plausible metric to describe the average value of the orders across these sneaker shops. \n"
      ]
    },
    {
      "cell_type": "code",
      "metadata": {
        "colab": {
          "base_uri": "https://localhost:8080/",
          "height": 437
        },
        "id": "CyGKd2fES64k",
        "outputId": "67129952-e983-4f58-f171-b0615c338379"
      },
      "source": [
        "# Determine Quantiles and IQR\n",
        "Q_dat <- quantile(shopify_dat$order_amount, probs=c(.25, .5, .75), na.rm = FALSE)\n",
        "IQR_dat <- IQR(shopify_dat$order_amount)\n",
        "\n",
        "# Boxplot for Pre-Processed Data Set\n",
        "plot_outlier <- ggplot(data = shopify_dat, aes(x = \"\", y = order_amount)) + \n",
        "  geom_boxplot() + \n",
        "  xlab(\"\") + \n",
        "  ylab(\"Order Amount\") + \n",
        "  labs(title = \"Distribution of Order Amounts\")\n",
        "\n",
        "# Means of Individual Items by Group \n",
        "mean_total_item <- shopify_dat %>% \n",
        "group_by(total_items) %>% \n",
        "summarise(mean = mean(order_amount), max_val = max(order_amount)) %>% \n",
        "mutate(ppItem_mean = mean/total_items, ppItem_max = max_val/total_items)\n",
        "\n",
        "plot_outlier"
      ],
      "execution_count": null,
      "outputs": [
        {
          "output_type": "display_data",
          "data": {
            "image/png": "[encoded data removed]",
            "text/plain": [
              "plot without title"
            ]
          },
          "metadata": {
            "tags": [],
            "image/png": {
              "width": 420,
              "height": 420
            }
          }
        }
      ]
    },
    {
      "cell_type": "markdown",
      "metadata": {
        "id": "Kn1ODT3YVar2"
      },
      "source": [
        "We can see from this plot, that there are a lot of outliers, and also that y-axis values are greatly separated, which could mean that that there is a very large variance in the value of the orders. So, to look deeper into this we can determine the quartile ranges, and find the outliers. Once we find the outliers, we can then take the average of the data without the outliers for a more accurate AOV."
      ]
    },
    {
      "cell_type": "code",
      "metadata": {
        "colab": {
          "base_uri": "https://localhost:8080/",
          "height": 345
        },
        "id": "Tfn0JWhNgIA7",
        "outputId": "096ac3f9-890d-4535-c991-55c195445b69"
      },
      "source": [
        "mean_total_item"
      ],
      "execution_count": null,
      "outputs": [
        {
          "output_type": "display_data",
          "data": {
            "text/plain": [
              "  total_items mean        max_val ppItem    ppItem_max\n",
              "1    1           417.3645  25725   417.3645 25725     \n",
              "2    2           750.2151  51450   375.1075 25725     \n",
              "3    3          1191.0765  77175   397.0255 25725     \n",
              "4    4           947.6860 102900   236.9215 25725     \n",
              "5    5           759.3506   1760   151.8701   352     \n",
              "6    6         17940.0000 154350  2990.0000 25725     \n",
              "7    8          1064.0000   1064   133.0000   133     \n",
              "8 2000        704000.0000 704000   352.0000   352     "
            ],
            "text/latex": "A tibble: 8 × 5\n\\begin{tabular}{lllll}\n total\\_items & mean & max\\_val & ppItem & ppItem\\_max\\\\\n <int> & <dbl> & <int> & <dbl> & <dbl>\\\\\n\\hline\n\t    1 &    417.3645 &  25725 &  417.3645 & 25725\\\\\n\t    2 &    750.2151 &  51450 &  375.1075 & 25725\\\\\n\t    3 &   1191.0765 &  77175 &  397.0255 & 25725\\\\\n\t    4 &    947.6860 & 102900 &  236.9215 & 25725\\\\\n\t    5 &    759.3506 &   1760 &  151.8701 &   352\\\\\n\t    6 &  17940.0000 & 154350 & 2990.0000 & 25725\\\\\n\t    8 &   1064.0000 &   1064 &  133.0000 &   133\\\\\n\t 2000 & 704000.0000 & 704000 &  352.0000 &   352\\\\\n\\end{tabular}\n",
            "text/markdown": "\nA tibble: 8 × 5\n\n| total_items &lt;int&gt; | mean &lt;dbl&gt; | max_val &lt;int&gt; | ppItem &lt;dbl&gt; | ppItem_max &lt;dbl&gt; |\n|---|---|---|---|---|\n|    1 |    417.3645 |  25725 |  417.3645 | 25725 |\n|    2 |    750.2151 |  51450 |  375.1075 | 25725 |\n|    3 |   1191.0765 |  77175 |  397.0255 | 25725 |\n|    4 |    947.6860 | 102900 |  236.9215 | 25725 |\n|    5 |    759.3506 |   1760 |  151.8701 |   352 |\n|    6 |  17940.0000 | 154350 | 2990.0000 | 25725 |\n|    8 |   1064.0000 |   1064 |  133.0000 |   133 |\n| 2000 | 704000.0000 | 704000 |  352.0000 |   352 |\n\n",
            "text/html": [
              "<table class=\"dataframe\">\n",
              "<caption>A tibble: 8 × 5</caption>\n",
              "<thead>\n",
              "\t<tr><th scope=col>total_items</th><th scope=col>mean</th><th scope=col>max_val</th><th scope=col>ppItem</th><th scope=col>ppItem_max</th></tr>\n",
              "\t<tr><th scope=col>&lt;int&gt;</th><th scope=col>&lt;dbl&gt;</th><th scope=col>&lt;int&gt;</th><th scope=col>&lt;dbl&gt;</th><th scope=col>&lt;dbl&gt;</th></tr>\n",
              "</thead>\n",
              "<tbody>\n",
              "\t<tr><td>   1</td><td>   417.3645</td><td> 25725</td><td> 417.3645</td><td>25725</td></tr>\n",
              "\t<tr><td>   2</td><td>   750.2151</td><td> 51450</td><td> 375.1075</td><td>25725</td></tr>\n",
              "\t<tr><td>   3</td><td>  1191.0765</td><td> 77175</td><td> 397.0255</td><td>25725</td></tr>\n",
              "\t<tr><td>   4</td><td>   947.6860</td><td>102900</td><td> 236.9215</td><td>25725</td></tr>\n",
              "\t<tr><td>   5</td><td>   759.3506</td><td>  1760</td><td> 151.8701</td><td>  352</td></tr>\n",
              "\t<tr><td>   6</td><td> 17940.0000</td><td>154350</td><td>2990.0000</td><td>25725</td></tr>\n",
              "\t<tr><td>   8</td><td>  1064.0000</td><td>  1064</td><td> 133.0000</td><td>  133</td></tr>\n",
              "\t<tr><td>2000</td><td>704000.0000</td><td>704000</td><td> 352.0000</td><td>  352</td></tr>\n",
              "</tbody>\n",
              "</table>\n"
            ]
          },
          "metadata": {
            "tags": []
          }
        }
      ]
    },
    {
      "cell_type": "markdown",
      "metadata": {
        "id": "E6oTP83ggO_z"
      },
      "source": [
        "From our analysis into individual items in the order, we can see that something is not right. Once we group by the total number of items in the order we can see that there is a large disparity between the max value and mean value in these individual groups. Also we can see that the Price Per Item using the Maximum Value is quite expensive at $25725 for usually reasonably priced items such as sneakers. \n",
        "\n",
        "We see that the value of $25725 is being repeated, and so this could be due to an error in the dataset that has inaccuratley recorded the price of a specific pair of sneakers. \n",
        "\n",
        "To determine if this high max value is due to an error in the dataset, we can calculate the outliers of order amount by group, and then find the average value for each individual item after we remove the outliers. Then, if the average value per item is then similar across the groups we can be more confident in the fact that this large value is due to an error in the dataset, and that it is not representative of the average customer order. "
      ]
    },
    {
      "cell_type": "code",
      "metadata": {
        "colab": {
          "base_uri": "https://localhost:8080/",
          "height": 283
        },
        "id": "EwW_9-JhjKvJ",
        "outputId": "23cab039-f408-4ea5-dfa3-b8bf864ec18e"
      },
      "source": [
        "# Mean of Individual Items with Removed Outliers \n",
        "mean_total_item_no_out <- shopify_dat %>% \n",
        "group_by(total_items) %>% \n",
        "mutate(lwr = quantile(order_amount, probs = .25), upr = quantile(order_amount, probs = .75), IQR_group = IQR(order_amount)) %>% \n",
        "filter(order_amount > (lwr - 1.5*IQR_group) & order_amount < (upr + 1.5*IQR_group)) %>% \n",
        "summarise(mean_val = mean(order_amount)) %>% \n",
        "mutate(ppItem_mean = mean_val/ total_items)\n",
        "\n",
        "mean_total_item_no_out\n"
      ],
      "execution_count": null,
      "outputs": [
        {
          "output_type": "display_data",
          "data": {
            "text/plain": [
              "  total_items mean_val ppItem_mean\n",
              "1 1           150.1793 150.1793   \n",
              "2 2           300.6334 150.3167   \n",
              "3 3           455.3929 151.7976   \n",
              "4 4           592.9517 148.2379   \n",
              "5 5           750.1333 150.0267   \n",
              "6 6           888.7500 148.1250   "
            ],
            "text/latex": "A tibble: 6 × 3\n\\begin{tabular}{lll}\n total\\_items & mean\\_val & ppItem\\_mean\\\\\n <int> & <dbl> & <dbl>\\\\\n\\hline\n\t 1 & 150.1793 & 150.1793\\\\\n\t 2 & 300.6334 & 150.3167\\\\\n\t 3 & 455.3929 & 151.7976\\\\\n\t 4 & 592.9517 & 148.2379\\\\\n\t 5 & 750.1333 & 150.0267\\\\\n\t 6 & 888.7500 & 148.1250\\\\\n\\end{tabular}\n",
            "text/markdown": "\nA tibble: 6 × 3\n\n| total_items &lt;int&gt; | mean_val &lt;dbl&gt; | ppItem_mean &lt;dbl&gt; |\n|---|---|---|\n| 1 | 150.1793 | 150.1793 |\n| 2 | 300.6334 | 150.3167 |\n| 3 | 455.3929 | 151.7976 |\n| 4 | 592.9517 | 148.2379 |\n| 5 | 750.1333 | 150.0267 |\n| 6 | 888.7500 | 148.1250 |\n\n",
            "text/html": [
              "<table class=\"dataframe\">\n",
              "<caption>A tibble: 6 × 3</caption>\n",
              "<thead>\n",
              "\t<tr><th scope=col>total_items</th><th scope=col>mean_val</th><th scope=col>ppItem_mean</th></tr>\n",
              "\t<tr><th scope=col>&lt;int&gt;</th><th scope=col>&lt;dbl&gt;</th><th scope=col>&lt;dbl&gt;</th></tr>\n",
              "</thead>\n",
              "<tbody>\n",
              "\t<tr><td>1</td><td>150.1793</td><td>150.1793</td></tr>\n",
              "\t<tr><td>2</td><td>300.6334</td><td>150.3167</td></tr>\n",
              "\t<tr><td>3</td><td>455.3929</td><td>151.7976</td></tr>\n",
              "\t<tr><td>4</td><td>592.9517</td><td>148.2379</td></tr>\n",
              "\t<tr><td>5</td><td>750.1333</td><td>150.0267</td></tr>\n",
              "\t<tr><td>6</td><td>888.7500</td><td>148.1250</td></tr>\n",
              "</tbody>\n",
              "</table>\n"
            ]
          },
          "metadata": {
            "tags": []
          }
        }
      ]
    },
    {
      "cell_type": "markdown",
      "metadata": {
        "id": "UYuz9JFBpsMk"
      },
      "source": [
        "As I suspected, once we remove the outliers we can see the average price per item is similar across all the groups. \n",
        "\n",
        "\n",
        "Now that we know there are many outliers that are skewing the data, we should re-visualize the distribution using a boxplot where we use a dataset with the outliers removed. "
      ]
    },
    {
      "cell_type": "code",
      "metadata": {
        "colab": {
          "base_uri": "https://localhost:8080/",
          "height": 454
        },
        "id": "ovIXOwO3V9Hv",
        "outputId": "75120d89-18d4-4537-8256-518bac343cf6"
      },
      "source": [
        "# Subset of Data without Outliers \n",
        "new_amount <- subset(shopify_dat, shopify_dat$order_amount > (Q_dat[1] - 1.5*IQR_dat) & shopify_dat$order_amount < (Q_dat[3] + 1.5*IQR_dat))\n",
        "ggplot(data = new_amount, aes(x = \"\", y = order_amount)) + \n",
        "  geom_boxplot() + \n",
        "  xlab(\"\") + \n",
        "  ylab(\"Order Amount\") + \n",
        "  labs(title = \"Distribution of Order Amounts after Outliers are Removed\")\n",
        "\n",
        "# The median Order Amount of our original Dataset\n",
        "Q_dat[2]\n"
      ],
      "execution_count": null,
      "outputs": [
        {
          "output_type": "display_data",
          "data": {
            "text/plain": [
              "50% \n",
              "284 "
            ],
            "text/latex": "\\textbf{50\\textbackslash{}\\%:} 284",
            "text/markdown": "**50%:** 284",
            "text/html": [
              "<strong>50%:</strong> 284"
            ]
          },
          "metadata": {
            "tags": []
          }
        },
        {
          "output_type": "display_data",
          "data": {
            "image/png": "[encoded data removed]",
            "text/plain": [
              "plot without title"
            ]
          },
          "metadata": {
            "tags": [],
            "image/png": {
              "width": 420,
              "height": 420
            }
          }
        }
      ]
    },
    {
      "cell_type": "markdown",
      "metadata": {
        "id": "M7k1ZRdxYADc"
      },
      "source": [
        "Now that we removed the outliers, the boxplot looks a lot better. We could probably use the median of the values of the order as a good metric for the value of the average order, since the median is very robust to outliers. For this dataset the median is $284, but now that we have removed the outliers, we could easily take the average of the values of the orders and have it accurately represent the average value of the orders in this shoe shop. Since, the outliers are removed we should prefer to use the mean to determine the average because the it more accurately represents the data due to the fact that it takes all of the values in the dataset into account rather than only being a central measure. "
      ]
    },
    {
      "cell_type": "code",
      "metadata": {
        "colab": {
          "base_uri": "https://localhost:8080/",
          "height": 51
        },
        "id": "iY-WoZF0Ym1t",
        "outputId": "8fe9493a-3b0a-4483-d02f-808bb0c76ecb"
      },
      "source": [
        "mean_order <- mean(new_amount$order_amount)\n",
        "mean_order\n",
        "\n",
        "# Validation for new Metric\n",
        "mean_item <- mean(new_amount$total_items)\n",
        "mean_item * mean(mean_total_item_no_out$ppItem_mean)"
      ],
      "execution_count": null,
      "outputs": [
        {
          "output_type": "display_data",
          "data": {
            "text/plain": [
              "[1] 293.7154"
            ],
            "text/latex": "293.715373533649",
            "text/markdown": "293.715373533649",
            "text/html": [
              "293.715373533649"
            ]
          },
          "metadata": {
            "tags": []
          }
        },
        {
          "output_type": "display_data",
          "data": {
            "text/plain": [
              "[1] 292.1013"
            ],
            "text/latex": "292.101327775379",
            "text/markdown": "292.101327775379",
            "text/html": [
              "292.101327775379"
            ]
          },
          "metadata": {
            "tags": []
          }
        }
      ]
    },
    {
      "cell_type": "markdown",
      "metadata": {
        "id": "0aWydJUJZXGJ"
      },
      "source": [
        "As I stated before we can use the average price of the individual item multiplied by the average number of items in an order and compare it to the metric that we deemed appropriate to represent the average value of the orders across sneaker shops. After computing this value we can see that it is very similar to the metric that we are using, and we can use this information for validation in our metric's accuracy.\n",
        "\n",
        "So, now we know that the reason for the abnormally large average that we first calculated is due to outliers in the dataset, but we should look into what these outliers are, and discuss the reasons for why they might exist. Without this information we might be overlooking something such as either a bug in the code or a consumer shopping pattern. "
      ]
    },
    {
      "cell_type": "code",
      "metadata": {
        "colab": {
          "base_uri": "https://localhost:8080/",
          "height": 68
        },
        "id": "YPYUdjk_Z18A",
        "outputId": "06bf861f-d350-49b4-8537-4f083922b578"
      },
      "source": [
        "table(unlist(shopify_dat$total_items))"
      ],
      "execution_count": null,
      "outputs": [
        {
          "output_type": "display_data",
          "data": {
            "text/plain": [
              "\n",
              "   1    2    3    4    5    6    8 2000 \n",
              "1830 1832  941  293   77    9    1   17 "
            ]
          },
          "metadata": {
            "tags": []
          }
        }
      ]
    },
    {
      "cell_type": "markdown",
      "metadata": {
        "id": "eHohV3XnbNBF"
      },
      "source": [
        "Here we see that most people buy either 1,2, or 3 items per order. 1 person bought 8 items, but 8 items is not nearly as peculiar as 2000 items per order. In 17 orders, there were 2000 items ordered, which is probably driving up the average value. We can do a deep dive into these few orders with 2000 items in order to gain a little bit more insight into what is happening. "
      ]
    },
    {
      "cell_type": "code",
      "metadata": {
        "colab": {
          "base_uri": "https://localhost:8080/",
          "height": 624
        },
        "id": "kUk0nwtZbxq9",
        "outputId": "7088187a-0a49-4b01-9ad6-52f81b2918d1"
      },
      "source": [
        "shopify_dat %>% \n",
        "  filter(total_items == 2000)"
      ],
      "execution_count": null,
      "outputs": [
        {
          "output_type": "display_data",
          "data": {
            "text/plain": [
              "   order_id shop_id user_id order_amount total_items payment_method\n",
              "1    16     42      607     704000       2000        credit_card   \n",
              "2    61     42      607     704000       2000        credit_card   \n",
              "3   521     42      607     704000       2000        credit_card   \n",
              "4  1105     42      607     704000       2000        credit_card   \n",
              "5  1363     42      607     704000       2000        credit_card   \n",
              "6  1437     42      607     704000       2000        credit_card   \n",
              "7  1563     42      607     704000       2000        credit_card   \n",
              "8  1603     42      607     704000       2000        credit_card   \n",
              "9  2154     42      607     704000       2000        credit_card   \n",
              "10 2298     42      607     704000       2000        credit_card   \n",
              "11 2836     42      607     704000       2000        credit_card   \n",
              "12 2970     42      607     704000       2000        credit_card   \n",
              "13 3333     42      607     704000       2000        credit_card   \n",
              "14 4057     42      607     704000       2000        credit_card   \n",
              "15 4647     42      607     704000       2000        credit_card   \n",
              "16 4869     42      607     704000       2000        credit_card   \n",
              "17 4883     42      607     704000       2000        credit_card   \n",
              "   created_at        \n",
              "1  2017-03-07 4:00:00\n",
              "2  2017-03-04 4:00:00\n",
              "3  2017-03-02 4:00:00\n",
              "4  2017-03-24 4:00:00\n",
              "5  2017-03-15 4:00:00\n",
              "6  2017-03-11 4:00:00\n",
              "7  2017-03-19 4:00:00\n",
              "8  2017-03-17 4:00:00\n",
              "9  2017-03-12 4:00:00\n",
              "10 2017-03-07 4:00:00\n",
              "11 2017-03-28 4:00:00\n",
              "12 2017-03-28 4:00:00\n",
              "13 2017-03-24 4:00:00\n",
              "14 2017-03-28 4:00:00\n",
              "15 2017-03-02 4:00:00\n",
              "16 2017-03-22 4:00:00\n",
              "17 2017-03-25 4:00:00"
            ],
            "text/latex": "A data.frame: 17 × 7\n\\begin{tabular}{lllllll}\n order\\_id & shop\\_id & user\\_id & order\\_amount & total\\_items & payment\\_method & created\\_at\\\\\n <int> & <int> & <int> & <int> & <int> & <chr> & <chr>\\\\\n\\hline\n\t   16 & 42 & 607 & 704000 & 2000 & credit\\_card & 2017-03-07 4:00:00\\\\\n\t   61 & 42 & 607 & 704000 & 2000 & credit\\_card & 2017-03-04 4:00:00\\\\\n\t  521 & 42 & 607 & 704000 & 2000 & credit\\_card & 2017-03-02 4:00:00\\\\\n\t 1105 & 42 & 607 & 704000 & 2000 & credit\\_card & 2017-03-24 4:00:00\\\\\n\t 1363 & 42 & 607 & 704000 & 2000 & credit\\_card & 2017-03-15 4:00:00\\\\\n\t 1437 & 42 & 607 & 704000 & 2000 & credit\\_card & 2017-03-11 4:00:00\\\\\n\t 1563 & 42 & 607 & 704000 & 2000 & credit\\_card & 2017-03-19 4:00:00\\\\\n\t 1603 & 42 & 607 & 704000 & 2000 & credit\\_card & 2017-03-17 4:00:00\\\\\n\t 2154 & 42 & 607 & 704000 & 2000 & credit\\_card & 2017-03-12 4:00:00\\\\\n\t 2298 & 42 & 607 & 704000 & 2000 & credit\\_card & 2017-03-07 4:00:00\\\\\n\t 2836 & 42 & 607 & 704000 & 2000 & credit\\_card & 2017-03-28 4:00:00\\\\\n\t 2970 & 42 & 607 & 704000 & 2000 & credit\\_card & 2017-03-28 4:00:00\\\\\n\t 3333 & 42 & 607 & 704000 & 2000 & credit\\_card & 2017-03-24 4:00:00\\\\\n\t 4057 & 42 & 607 & 704000 & 2000 & credit\\_card & 2017-03-28 4:00:00\\\\\n\t 4647 & 42 & 607 & 704000 & 2000 & credit\\_card & 2017-03-02 4:00:00\\\\\n\t 4869 & 42 & 607 & 704000 & 2000 & credit\\_card & 2017-03-22 4:00:00\\\\\n\t 4883 & 42 & 607 & 704000 & 2000 & credit\\_card & 2017-03-25 4:00:00\\\\\n\\end{tabular}\n",
            "text/markdown": "\nA data.frame: 17 × 7\n\n| order_id &lt;int&gt; | shop_id &lt;int&gt; | user_id &lt;int&gt; | order_amount &lt;int&gt; | total_items &lt;int&gt; | payment_method &lt;chr&gt; | created_at &lt;chr&gt; |\n|---|---|---|---|---|---|---|\n|   16 | 42 | 607 | 704000 | 2000 | credit_card | 2017-03-07 4:00:00 |\n|   61 | 42 | 607 | 704000 | 2000 | credit_card | 2017-03-04 4:00:00 |\n|  521 | 42 | 607 | 704000 | 2000 | credit_card | 2017-03-02 4:00:00 |\n| 1105 | 42 | 607 | 704000 | 2000 | credit_card | 2017-03-24 4:00:00 |\n| 1363 | 42 | 607 | 704000 | 2000 | credit_card | 2017-03-15 4:00:00 |\n| 1437 | 42 | 607 | 704000 | 2000 | credit_card | 2017-03-11 4:00:00 |\n| 1563 | 42 | 607 | 704000 | 2000 | credit_card | 2017-03-19 4:00:00 |\n| 1603 | 42 | 607 | 704000 | 2000 | credit_card | 2017-03-17 4:00:00 |\n| 2154 | 42 | 607 | 704000 | 2000 | credit_card | 2017-03-12 4:00:00 |\n| 2298 | 42 | 607 | 704000 | 2000 | credit_card | 2017-03-07 4:00:00 |\n| 2836 | 42 | 607 | 704000 | 2000 | credit_card | 2017-03-28 4:00:00 |\n| 2970 | 42 | 607 | 704000 | 2000 | credit_card | 2017-03-28 4:00:00 |\n| 3333 | 42 | 607 | 704000 | 2000 | credit_card | 2017-03-24 4:00:00 |\n| 4057 | 42 | 607 | 704000 | 2000 | credit_card | 2017-03-28 4:00:00 |\n| 4647 | 42 | 607 | 704000 | 2000 | credit_card | 2017-03-02 4:00:00 |\n| 4869 | 42 | 607 | 704000 | 2000 | credit_card | 2017-03-22 4:00:00 |\n| 4883 | 42 | 607 | 704000 | 2000 | credit_card | 2017-03-25 4:00:00 |\n\n",
            "text/html": [
              "<table class=\"dataframe\">\n",
              "<caption>A data.frame: 17 × 7</caption>\n",
              "<thead>\n",
              "\t<tr><th scope=col>order_id</th><th scope=col>shop_id</th><th scope=col>user_id</th><th scope=col>order_amount</th><th scope=col>total_items</th><th scope=col>payment_method</th><th scope=col>created_at</th></tr>\n",
              "\t<tr><th scope=col>&lt;int&gt;</th><th scope=col>&lt;int&gt;</th><th scope=col>&lt;int&gt;</th><th scope=col>&lt;int&gt;</th><th scope=col>&lt;int&gt;</th><th scope=col>&lt;chr&gt;</th><th scope=col>&lt;chr&gt;</th></tr>\n",
              "</thead>\n",
              "<tbody>\n",
              "\t<tr><td>  16</td><td>42</td><td>607</td><td>704000</td><td>2000</td><td>credit_card</td><td>2017-03-07 4:00:00</td></tr>\n",
              "\t<tr><td>  61</td><td>42</td><td>607</td><td>704000</td><td>2000</td><td>credit_card</td><td>2017-03-04 4:00:00</td></tr>\n",
              "\t<tr><td> 521</td><td>42</td><td>607</td><td>704000</td><td>2000</td><td>credit_card</td><td>2017-03-02 4:00:00</td></tr>\n",
              "\t<tr><td>1105</td><td>42</td><td>607</td><td>704000</td><td>2000</td><td>credit_card</td><td>2017-03-24 4:00:00</td></tr>\n",
              "\t<tr><td>1363</td><td>42</td><td>607</td><td>704000</td><td>2000</td><td>credit_card</td><td>2017-03-15 4:00:00</td></tr>\n",
              "\t<tr><td>1437</td><td>42</td><td>607</td><td>704000</td><td>2000</td><td>credit_card</td><td>2017-03-11 4:00:00</td></tr>\n",
              "\t<tr><td>1563</td><td>42</td><td>607</td><td>704000</td><td>2000</td><td>credit_card</td><td>2017-03-19 4:00:00</td></tr>\n",
              "\t<tr><td>1603</td><td>42</td><td>607</td><td>704000</td><td>2000</td><td>credit_card</td><td>2017-03-17 4:00:00</td></tr>\n",
              "\t<tr><td>2154</td><td>42</td><td>607</td><td>704000</td><td>2000</td><td>credit_card</td><td>2017-03-12 4:00:00</td></tr>\n",
              "\t<tr><td>2298</td><td>42</td><td>607</td><td>704000</td><td>2000</td><td>credit_card</td><td>2017-03-07 4:00:00</td></tr>\n",
              "\t<tr><td>2836</td><td>42</td><td>607</td><td>704000</td><td>2000</td><td>credit_card</td><td>2017-03-28 4:00:00</td></tr>\n",
              "\t<tr><td>2970</td><td>42</td><td>607</td><td>704000</td><td>2000</td><td>credit_card</td><td>2017-03-28 4:00:00</td></tr>\n",
              "\t<tr><td>3333</td><td>42</td><td>607</td><td>704000</td><td>2000</td><td>credit_card</td><td>2017-03-24 4:00:00</td></tr>\n",
              "\t<tr><td>4057</td><td>42</td><td>607</td><td>704000</td><td>2000</td><td>credit_card</td><td>2017-03-28 4:00:00</td></tr>\n",
              "\t<tr><td>4647</td><td>42</td><td>607</td><td>704000</td><td>2000</td><td>credit_card</td><td>2017-03-02 4:00:00</td></tr>\n",
              "\t<tr><td>4869</td><td>42</td><td>607</td><td>704000</td><td>2000</td><td>credit_card</td><td>2017-03-22 4:00:00</td></tr>\n",
              "\t<tr><td>4883</td><td>42</td><td>607</td><td>704000</td><td>2000</td><td>credit_card</td><td>2017-03-25 4:00:00</td></tr>\n",
              "</tbody>\n",
              "</table>\n"
            ]
          },
          "metadata": {
            "tags": []
          }
        }
      ]
    },
    {
      "cell_type": "markdown",
      "metadata": {
        "id": "g0g0wKfHcAMg"
      },
      "source": [
        "From this we can see that the values for shop_id, user_id, order_amount, and total_items are the same for all 17 orders that have 200 items in them. The reason for this error could possibly be because there is a bug in the code that connects to the order database, or maybe the reason for these peculiar orders is because of a person that is buying multiple of the same items, so that they can resell it later for a higher price. Either way, we can see that these 17 orders are not representative of the average purchaser of this store, so when we are determining the average we would not be losing much information regarding the average customer by leaving out these 17 orders. \n",
        "\n",
        "So, to reiterate and explicitly answer the sub-questions: \n",
        "\n",
        "**1a. Think about what could be going wrong with our calculation. Think about a better way to evaluate this data.**\n",
        "\n",
        "There could be many factors that have led us to this erroneous average whether it be the fact that we didn't take in total items into account or the fact that there could be a glitch in reporting accurate prices of the shoes in the dataset. Also, there are 17 orders with 2000 items in them that are skewing the AOV and are not really representative of the average purchase. \n",
        "\n",
        "**1b. What metric would you report for this dataset?**\n",
        "\n",
        "We know that the mean is sensitive to outliers, but it is a very informative measure for the distribution of prices, so what we can do is remove the outliers in the dataset and recalculate the mean in order to get a more accurate value for the AOV.\n",
        "\n",
        "**1c. What is its value?**\n",
        "\n",
        "Once we recalculate our average the AOV comes to $293.71"
      ]
    },
    {
      "cell_type": "markdown",
      "metadata": {
        "id": "POUiycj0z5W8"
      },
      "source": [
        "### **Question 2**\n",
        "\n",
        "**a. How many orders were shipped by Speedy Express in total?**\n",
        "\n",
        "This is a pretty simple query. We know that we need the number of orders as well as the names of the shippers, so we have to use the ```JOIN``` clause to join the two tables so we can count the number of orders and filter for a specific shipper.\n",
        "\n",
        "```\n",
        "SELECT COUNT(*)\n",
        "FROM Orders\n",
        "JOIN Shippers ON Orders.ShipperId = Shippers.ShipperId WHERE ShipperName = \"Speedy Express\";\n",
        "```\n",
        "\n",
        "**54** orders were shipped by Speedy Express in total.\n",
        "\n",
        "\n",
        "**b. What is the last name of the employee with the most orders**\n",
        "\n",
        "Since this is a more complicated query, I like to use the ```WITH ``` clause in SQL. In this case, it is not technically necessary because we only use the sub-query once in our final query, but I believe that it helps with code readability. \n",
        "\n",
        "Basically, we use our subquery to determine the Employee ID and the number of orders associated with each one, which we then use in our final query to filter for the employee ID with the largest number of orders. \n",
        "\n",
        "We use the ``` HAVING ``` clause to filter for the greatest number of orders since we employeed ``` GROUP BY ``` after joining the tables Employees and Orders.\n",
        "\n",
        "\n",
        "```\n",
        "WITH max_ord AS \n",
        "(\n",
        "SELECT EmployeeID, COUNT(OrderID) as ord_count\n",
        "FROM Orders\n",
        "GROUP BY EmployeeID\n",
        ")\n",
        "SELECT LastName\n",
        "FROM Employees\n",
        "JOIN Orders ON Employees.EmployeeID = Orders.EmployeeID\n",
        "GROUP BY Employees.EmployeeID, LastName \n",
        "HAVING COUNT(*) = (SELECT MAX(ord_count) FROM max_ord);\n",
        "```\n",
        "\n",
        "The last name of the employee with the most orders is **Peacock**.\n",
        "\n",
        "\n",
        "**c.What product was ordered the most by customers in Germany?**\n",
        "\n",
        "This is the most complicated query, so I found it especially useful to tackle the problem by parts and use the ``` WITH ``` clause. First, I started out by finding all of the orders in Germany. \n",
        "\n",
        "Once we write our first sub-query, the next thing that we must do is find the most ordered item in Germany. Since we don't have the Product Name in Orders or Order Details but need the details about the number of orders, we must create another subquery where we join Order Details with German Orders. \n",
        "\n",
        "Finally we have the Product ID of the most ordered item in Germany, so then for the final query we simply need to ``` JOIN ``` the Products table with our second sub-query to retrieve the name of the product. \n",
        "\n",
        "\n",
        "```\n",
        "WITH german_customer AS \n",
        "( \n",
        "SELECT CustomerID \n",
        "FROM CUSTOMERS \n",
        "WHERE Country = \"Germany\"\n",
        "), most_order AS \n",
        "( \n",
        "SELECT ProductID, SUM(Quantity) as order_num\n",
        "FROM Orders\n",
        "JOIN german_customer ON Orders.CustomerID = german_customer.CustomerID \n",
        "JOIN OrderDetails on OrderDetails.OrderID = Orders.OrderID\n",
        "GROUP BY ProductID \n",
        "ORDER BY order_num DESC\n",
        ") \n",
        "SELECT ProductName, order_num \n",
        "FROM Products\n",
        "JOIN most_order ON most_order.ProductID = Products.ProductID\n",
        "LIMIT 1;\n",
        "```\n",
        "\n",
        "**Boston Crab Meat** was the most ordered product in Germany. It was ordered **160** times."
      ]
    }
  ]
}